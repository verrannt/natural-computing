{
 "cells": [
  {
   "cell_type": "markdown",
   "metadata": {},
   "source": [
    "# Assignment 1 - Excercise 4"
   ]
  },
  {
   "cell_type": "code",
   "execution_count": 4,
   "metadata": {},
   "outputs": [],
   "source": [
    "import numpy as np\n",
    "import matplotlib.pyplot as plt"
   ]
  },
  {
   "cell_type": "markdown",
   "metadata": {},
   "source": [
    "*Algorithm*\n",
    "\n",
    "1. Randomly generate a bit sequence $x$.\n",
    "2. Create a copy of $x$ and invert each of its bits with probability p. Let $x_m$ be the result.\n",
    "3. If $x_m$ is closer to the goal sequence than $x$ then replace $x$ with $x_m$.\n",
    "4. Repeat the process from step (b) with the new $x$ until the goal sequence is reached.\n",
    "\n",
    "The *Counting Ones* problem amounts to find a bit string whose sum of its entries is\n",
    "maximum. Implement a simple (1 + 1)-GA for solving the Counting Ones problem.\n"
   ]
  },
  {
   "cell_type": "markdown",
   "metadata": {},
   "source": [
    "### (a) Use bit strings of length $l = 100$ and a mutation rate $p = \\frac{1}{l}$. For a run of 1500 iterations, plot the best fitness against the elapsed number of iterations."
   ]
  },
  {
   "cell_type": "code",
   "execution_count": 1,
   "metadata": {},
   "outputs": [],
   "source": [
    "# Bit string length \n",
    "l = 100\n",
    "\n",
    "# Mutation rate\n",
    "p = 1/l\n",
    "\n",
    "# Number of iterations\n",
    "n_iter = 1500"
   ]
  },
  {
   "cell_type": "code",
   "execution_count": 37,
   "metadata": {},
   "outputs": [],
   "source": [
    "def run(n_iter=1500):\n",
    "    \"\"\" \n",
    "    Compute one run of `n_iter` iterations.\n",
    "    Collect fitnesses for each iteration and whether the optimum\n",
    "    was found.\n",
    "    \"\"\"\n",
    "    \n",
    "    # Random initial sequence of length l (assuming uniform distribution)\n",
    "    x = np.random.choice([True, False], l)\n",
    "\n",
    "    # Evaluation function that counts number of 'True' occurences\n",
    "    # (solution has l occurences of 'True')\n",
    "    def _eval(candidate):\n",
    "        return np.count_nonzero(candidate==True)\n",
    "\n",
    "    # Get score of initial sequence\n",
    "    score = _eval(x)\n",
    "\n",
    "    fitnesses = []\n",
    "\n",
    "    for i in range(n_iter):\n",
    "\n",
    "        # Invert sequence\n",
    "        invert = np.random.choice([True, False], l, p=[p, 1-p])\n",
    "        x_m = np.logical_xor(x, invert) # XOR has desired truth table\n",
    "\n",
    "        # Evaluate x_m\n",
    "        score_xm = _eval(x_m)\n",
    "\n",
    "        # Replace x if x_m scores higher\n",
    "        if score_xm > score:\n",
    "            x = x_m\n",
    "            score = score_xm\n",
    "\n",
    "        # Collect best fitnesses\n",
    "        fitnesses.append(score)\n",
    "    \n",
    "    has_found_solution = True if fitnesses[-1]==l else False\n",
    "    \n",
    "    return fitnesses, has_found_solution\n",
    "\n",
    "fitnesses, _ = run()"
   ]
  },
  {
   "cell_type": "code",
   "execution_count": 38,
   "metadata": {},
   "outputs": [
    {
     "data": {
      "image/png": "[encoded data removed]",
      "text/plain": [
       "<Figure size 432x288 with 1 Axes>"
      ]
     },
     "metadata": {
      "needs_background": "light"
     },
     "output_type": "display_data"
    }
   ],
   "source": [
    "plt.plot(np.arange(n_iter), fitnesses)\n",
    "plt.xlabel('Iteration')\n",
    "plt.ylabel('Best Fitness')\n",
    "plt.show()"
   ]
  },
  {
   "cell_type": "markdown",
   "metadata": {},
   "source": [
    "### (b) Now do 10 runs. How many times the algorithm finds the optimum?"
   ]
  },
  {
   "cell_type": "code",
   "execution_count": 46,
   "metadata": {},
   "outputs": [
    {
     "name": "stdout",
     "output_type": "stream",
     "text": [
      "The algorithm has found the optimum in 9 of 10 runs.\n"
     ]
    }
   ],
   "source": [
    "def count_solutions(n_runs = 10, verbose = False):\n",
    "    count = 0\n",
    "    \n",
    "    for r_id in range(n_runs):\n",
    "        if verbose: print('{}/{}\\r'.format(r_id+1, n_runs), end='')\n",
    "\n",
    "        fitnesses, has_found_solution = run()\n",
    "        if has_found_solution:\n",
    "            count += 1\n",
    "\n",
    "    return count\n",
    "   \n",
    "n_runs = 10\n",
    "count = count_solutions(n_runs)\n",
    "print('The algorithm has found the optimum in {} of {} runs.'.format(count, n_runs))"
   ]
  },
  {
   "cell_type": "code",
   "execution_count": 57,
   "metadata": {},
   "outputs": [
    {
     "name": "stdout",
     "output_type": "stream",
     "text": [
      "The algorithm finds the optimum in 90% of runs with 1500 iterations each.\n"
     ]
    }
   ],
   "source": [
    "# Count the solutions over 10000 runs to get a more accurate estimate\n",
    "n_runs = 10000\n",
    "count = count_solutions(n_runs, verbose=True)\n",
    "print('The algorithm finds the optimum in {:.0f}% of runs with 1500 iterations each.'.format((count/n_runs)*100))"
   ]
  },
  {
   "cell_type": "markdown",
   "metadata": {},
   "source": [
    "### (c) Now replace (c) in the above algorithm with (c’ ): replace $x$ with $x_m$. Is there a difference in performance when using this modification? Justify your answer."
   ]
  },
  {
   "cell_type": "code",
   "execution_count": 59,
   "metadata": {},
   "outputs": [],
   "source": [
    "def run_cprime():\n",
    "    # Random initial sequence of length l (assuming uniform distribution)\n",
    "    x = np.random.choice([True, False], l)\n",
    "\n",
    "    # Evaluation function that counts number of 'True' occurences\n",
    "    # (solution has l occurences of 'True')\n",
    "    def _eval(candidate):\n",
    "        return np.count_nonzero(candidate==True)\n",
    "\n",
    "    # Get score of initial sequence\n",
    "    score = _eval(x)\n",
    "\n",
    "    fitnesses = []\n",
    "\n",
    "    for i in range(n_iter):\n",
    "\n",
    "        # Invert sequence\n",
    "        invert = np.random.choice([True, False], l, p=[p, 1-p])\n",
    "        \n",
    "        # Just replace x no matter what\n",
    "        x = np.logical_xor(x, invert)\n",
    "        score = _eval(x)\n",
    "\n",
    "        # Collect fitness\n",
    "        fitnesses.append(score)\n",
    "    \n",
    "    has_found_solution = True if fitnesses[-1]==l else False\n",
    "    \n",
    "    return fitnesses, has_found_solution\n",
    "\n",
    "fitnesses, _ = run_cprime()"
   ]
  },
  {
   "cell_type": "code",
   "execution_count": 64,
   "metadata": {},
   "outputs": [
    {
     "data": {
      "image/png": "[encoded data removed]",
      "text/plain": [
       "<Figure size 432x288 with 1 Axes>"
      ]
     },
     "metadata": {
      "needs_background": "light"
     },
     "output_type": "display_data"
    }
   ],
   "source": [
    "plt.plot(np.arange(n_iter), fitnesses)\n",
    "plt.xlabel('Iteration')\n",
    "plt.ylabel('Fitness')\n",
    "plt.show()"
   ]
  },
  {
   "cell_type": "code",
   "execution_count": 66,
   "metadata": {},
   "outputs": [
    {
     "name": "stdout",
     "output_type": "stream",
     "text": [
      "Mean fitness of 1500 iterations: 49.364\n"
     ]
    }
   ],
   "source": [
    "print('Mean fitness of 1500 iterations:', np.mean(fitnesses))"
   ]
  },
  {
   "cell_type": "code",
   "execution_count": 63,
   "metadata": {},
   "outputs": [
    {
     "name": "stdout",
     "output_type": "stream",
     "text": [
      "The algorithm has found the optimum in 0 of 1000 runs.\n"
     ]
    }
   ],
   "source": [
    "def count_solutions(n_runs = 10, verbose = False):\n",
    "    count = 0\n",
    "    \n",
    "    for r_id in range(n_runs):\n",
    "        if verbose: print('{}/{}\\r'.format(r_id+1, n_runs), end='')\n",
    "\n",
    "        fitnesses, has_found_solution = run_cprime()\n",
    "        if has_found_solution:\n",
    "            count += 1\n",
    "\n",
    "    return count\n",
    "   \n",
    "n_runs = 1000\n",
    "count = count_solutions(n_runs, verbose=True)\n",
    "print('The algorithm has found the optimum in {} of {} runs.'.format(count, n_runs))"
   ]
  },
  {
   "cell_type": "markdown",
   "metadata": {},
   "source": [
    "**Answer:** There is an obvious difference in performance in that the new algorithm does not find the optimum at all (for 1000 tested runs, it did not find the optimum once). This makes sense, considering that the algorithm simply replaces $x$ in every iteration, without paying attention to whether the new sequence $x_m$ is better or worse. In the above plot, we can observe this phenomenon: the fitness follows a random pattern without any visible convergence behaviour towards the optimum. Even more so, we can observe that the fitnesses cycle around a mean of 50, which is the expected fitness of the initial sequence. This means that the algorithm is on average creating the same amount of better and worse solutions at each iteration, which shows that it is entirely uninformed about its performance and lacks any possibility of structural improvement. "
   ]
  }
 ],
 "metadata": {
  "kernelspec": {
   "display_name": "Python 3",
   "language": "python",
   "name": "python3"
  },
  "language_info": {
   "codemirror_mode": {
    "name": "ipython",
    "version": 3
   },
   "file_extension": ".py",
   "mimetype": "text/x-python",
   "name": "python",
   "nbconvert_exporter": "python",
   "pygments_lexer": "ipython3",
   "version": "3.8.5"
  }
 },
 "nbformat": 4,
 "nbformat_minor": 4
}
