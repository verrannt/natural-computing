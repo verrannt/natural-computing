{
 "cells": [
  {
   "cell_type": "code",
   "execution_count": 1,
   "metadata": {},
   "outputs": [],
   "source": [
    "import numpy as np\n",
    "import matplotlib.pyplot as plt\n",
    "from gplearn.genetic import SymbolicRegressor\n",
    "from gplearn.functions import make_function\n",
    "from gplearn.fitness import make_fitness"
   ]
  },
  {
   "cell_type": "code",
   "execution_count": 2,
   "metadata": {},
   "outputs": [],
   "source": [
    "x_train = np.arange(-1.0, 1.1, 0.1)\n",
    "y_train = np.array([0.,-0.1629,-0.2624,-0.3129,-0.3264,-0.3125,-0.2784,-0.2289,-0.1664,-0.0909,0.0,0.1111,0.2496,0.4251,0.6496,0.9375,1.3056,1.7731,2.3616,3.0951,4.0000])"
   ]
  },
  {
   "cell_type": "code",
   "execution_count": 3,
   "metadata": {},
   "outputs": [],
   "source": [
    "x_train = np.reshape(x_train, (-1,1))"
   ]
  },
  {
   "cell_type": "code",
   "execution_count": 30,
   "metadata": {},
   "outputs": [
    {
     "data": {
      "image/png": "[encoded data removed]",
      "text/plain": [
       "<Figure size 432x288 with 1 Axes>"
      ]
     },
     "metadata": {
      "needs_background": "light"
     },
     "output_type": "display_data"
    }
   ],
   "source": [
    "plt.plot(x_train, y_train)\n",
    "plt.title('Training Data')\n",
    "plt.xlabel('X');plt.ylabel('Y')\n",
    "plt.show()"
   ]
  },
  {
   "cell_type": "code",
   "execution_count": 5,
   "metadata": {},
   "outputs": [],
   "source": [
    "# Make exponential function to be used by Regressor\n",
    "# as it is not defined as default function\n",
    "\n",
    "def _exp(x1):\n",
    "    e = np.exp(x1)\n",
    "    return np.nan_to_num(e, nan=float(\"inf\"))\n",
    "\n",
    "exp = make_function(function=_exp,\n",
    "                    name='exp',\n",
    "                    arity=1)\n",
    "\n",
    "# Create sum of absolute error function\n",
    "# to be used as metric\n",
    "\n",
    "def _sae(y, y_pred, w):\n",
    "    \"\"\" The sum absolute error between y and y_pred \"\"\"\n",
    "    return np.sum(np.abs(y-y_pred)*w)\n",
    "\n",
    "sae = make_fitness(_sae, greater_is_better=False)"
   ]
  },
  {
   "cell_type": "code",
   "execution_count": 24,
   "metadata": {},
   "outputs": [],
   "source": [
    "def plot_fit_versus_data(reg):\n",
    "    \"\"\" Function for plotting the fitted model against the actual data \"\"\"\n",
    "    plt.title('Fit vs. actual data')\n",
    "    plt.plot(x_train, y_train, label='true data')\n",
    "    plt.plot(x_train, reg.predict(x_train), label='approximation', linestyle='--')\n",
    "    plt.xlabel('X')\n",
    "    plt.ylabel('Y')\n",
    "    plt.legend()\n",
    "    plt.show()\n",
    "    \n",
    "def plot_evolution(reg):\n",
    "    best_lengths = reg.run_details_['best_length']\n",
    "    best_fitness = reg.run_details_['best_fitness']\n",
    "    generations = reg.run_details_['generation']\n",
    "    plt.title('Fitness and length of best individual over generations')\n",
    "    plt.plot(generations, best_lengths, label='Best length')\n",
    "    plt.plot(generations, best_fitness, label='Best fitness')\n",
    "    plt.xlabel('Generation')\n",
    "    plt.ylabel(' ')\n",
    "    plt.legend()\n",
    "    plt.show()\n",
    "    \n",
    "def eval_model(reg):\n",
    "    print('Final Program:\\n',reg._program)\n",
    "    print()\n",
    "    print('Sum Absolute Error: {:.2f}'.format(_sae(y_train, reg.predict(x_train),1)))\n",
    "    print('R² Score: {:.2f}'.format(reg.score(x_train,y_train)))\n",
    "    plot_fit_versus_data(reg)\n",
    "    plot_evolution(reg)"
   ]
  },
  {
   "cell_type": "code",
   "execution_count": 28,
   "metadata": {},
   "outputs": [
    {
     "name": "stdout",
     "output_type": "stream",
     "text": [
      "    |   Population Average    |             Best Individual              |\n",
      "---- ------------------------- ------------------------------------------ ----------\n",
      " Gen   Length          Fitness   Length          Fitness      OOB Fitness  Time Left\n"
     ]
    },
    {
     "name": "stderr",
     "output_type": "stream",
     "text": [
      "<ipython-input-5-954cc93d03d7>:5: RuntimeWarning: overflow encountered in exp\n",
      "  e = np.exp(x1)\n",
      "/home/pscl/scienv/lib/python3.8/site-packages/numpy/core/fromnumeric.py:87: RuntimeWarning: overflow encountered in reduce\n",
      "  return ufunc.reduce(obj, axis, dtype, out, **passkwargs)\n",
      "/home/pscl/scienv/lib/python3.8/site-packages/gplearn/functions.py:46: RuntimeWarning: overflow encountered in multiply\n",
      "  return self.function(*args)\n"
     ]
    },
    {
     "name": "stdout",
     "output_type": "stream",
     "text": [
      "   0    14.71              inf        7          3.97068              N/A     24.87s\n",
      "   1    13.22          20.6547        7          3.97068              N/A     21.52s\n",
      "   2    17.30          18.3969       13          1.71802              N/A     20.34s\n",
      "   3    12.42           12.595       29          1.18406              N/A     18.02s\n",
      "   4    16.36          10.5711       29          1.18406              N/A     18.54s\n",
      "   5    16.19          11.8279       34         0.845101              N/A     19.87s\n",
      "   6    21.91          16.8246       34         0.845101              N/A     28.25s\n",
      "   7    30.57          26.4802       33         0.631563              N/A     24.37s\n",
      "   8    33.13          42.0426       31         0.626482              N/A     24.04s\n",
      "   9    33.66          31.1463       37         0.541885              N/A     20.22s\n",
      "  10    31.08           29.572       50         0.454768              N/A     23.33s\n",
      "  11    30.94          16.0404       64         0.447976              N/A     23.05s\n",
      "  12    45.23          13.2013       46         0.403985              N/A     20.84s\n",
      "  13    51.52          7.87347       96         0.377397              N/A     21.47s\n",
      "  14    52.56          8.84524       66         0.373618              N/A     20.94s\n",
      "  15    49.98          8.87088       65         0.371389              N/A     20.23s\n",
      "  16    48.63          79.4955       60         0.302485              N/A     19.55s\n",
      "  17    52.54          141.468       63         0.296071              N/A     21.93s\n",
      "  18    55.84          146.912       64         0.213063              N/A     19.64s\n",
      "  19    63.27          1964.82       64         0.213063              N/A     22.99s\n",
      "  20    62.39          6.51951       64         0.213063              N/A     19.46s\n",
      "  21    65.69          6.70778       65          0.20785              N/A     21.27s\n",
      "  22    64.26          7.91893       65          0.20785              N/A     20.51s\n",
      "  23    64.91          7.26692       64         0.207748              N/A     17.11s\n",
      "  24    65.18           5.8074       64         0.207748              N/A     16.48s\n",
      "  25    63.35           4.6099       64         0.207748              N/A     18.51s\n",
      "  26    62.52          7.03123       68         0.207748              N/A     15.31s\n",
      "  27    60.51          7.19129       60         0.207748              N/A     15.84s\n",
      "  28    60.18          6.29866       60         0.207748              N/A     15.82s\n",
      "  29    58.28          4.36092       60         0.207748              N/A     13.24s\n",
      "  30    57.41          4.12258       57          0.20785              N/A     11.84s\n",
      "  31    57.02          4.25905       57          0.20785              N/A     11.23s\n",
      "  32    57.33           4.3164       56         0.207748              N/A     11.09s\n",
      "  33    56.30          5.19572       56         0.207748              N/A     10.30s\n",
      "  34    56.74           4.7498       56         0.207748              N/A      9.73s\n",
      "  35    56.47          5.18636       56         0.207748              N/A      9.01s\n",
      "  36    56.54          4.12728       56         0.207748              N/A      8.52s\n",
      "  37    56.02          4.11302       56         0.207748              N/A      7.81s\n",
      "  38    55.79          5.60254       56         0.207748              N/A      7.04s\n",
      "  39    56.11          5.28123       56         0.207748              N/A      6.46s\n",
      "  40    55.98          7.85201       56         0.207748              N/A      5.82s\n",
      "  41    56.08          5.14076       56         0.207748              N/A      5.45s\n",
      "  42    55.66          8.07583       56         0.207748              N/A      4.58s\n",
      "  43    56.67          8.00998       56         0.207748              N/A      3.95s\n",
      "  44    55.97          6.04388       56         0.207748              N/A      3.83s\n",
      "  45    56.43          4.84751       56         0.207748              N/A      2.59s\n",
      "  46    55.67          5.19823       56         0.207748              N/A      2.16s\n",
      "  47    56.24          5.18258       56         0.207748              N/A      1.28s\n",
      "  48    56.81          4.37152       56         0.207748              N/A      0.74s\n",
      "  49    55.74          6.02267       56         0.207748              N/A      0.00s\n"
     ]
    }
   ],
   "source": [
    "population_size = 1000\n",
    "func_set = ('add','sub','mul','div','log','sin','cos',exp)\n",
    "n_generations = 50\n",
    "p_crossover = 0.7\n",
    "p_mutation = 0.0\n",
    "metric = sae\n",
    "\n",
    "reg = SymbolicRegressor(\n",
    "    population_size = population_size,\n",
    "    generations = n_generations,\n",
    "    p_crossover = p_crossover,\n",
    "    p_subtree_mutation=p_mutation, \n",
    "    p_hoist_mutation=p_mutation, \n",
    "    p_point_mutation=p_mutation,\n",
    "    function_set = func_set,\n",
    "    metric=sae,\n",
    "    verbose = 1\n",
    ")\n",
    "\n",
    "reg = reg.fit(x_train, y_train)"
   ]
  },
  {
   "cell_type": "code",
   "execution_count": 29,
   "metadata": {},
   "outputs": [
    {
     "name": "stdout",
     "output_type": "stream",
     "text": [
      "Final Program:\n",
      " mul(add(sub(exp(sin(X0)), cos(X0)), mul(mul(sin(sin(X0)), sin(add(0.508, div(mul(sub(exp(sin(sin(X0))), div(cos(X0), div(sub(exp(sin(X0)), cos(X0)), X0))), sub(exp(sin(X0)), sin(sin(sin(X0))))), cos(0.404))))), add(0.508, -0.575))), sub(div(exp(X0), cos(0.404)), sin(sin(X0))))\n",
      "\n",
      "Sum Absolute Error: 0.21\n",
      "R² Score: 1.00\n"
     ]
    },
    {
     "data": {
      "image/png": "[encoded data removed]",
      "text/plain": [
       "<Figure size 432x288 with 1 Axes>"
      ]
     },
     "metadata": {
      "needs_background": "light"
     },
     "output_type": "display_data"
    },
    {
     "data": {
      "image/png": "[encoded data removed]",
      "text/plain": [
       "<Figure size 432x288 with 1 Axes>"
      ]
     },
     "metadata": {
      "needs_background": "light"
     },
     "output_type": "display_data"
    }
   ],
   "source": [
    "eval_model(reg)"
   ]
  },
  {
   "cell_type": "code",
   "execution_count": null,
   "metadata": {},
   "outputs": [],
   "source": []
  }
 ],
 "metadata": {
  "kernelspec": {
   "display_name": "Python 3",
   "language": "python",
   "name": "python3"
  },
  "language_info": {
   "codemirror_mode": {
    "name": "ipython",
    "version": 3
   },
   "file_extension": ".py",
   "mimetype": "text/x-python",
   "name": "python",
   "nbconvert_exporter": "python",
   "pygments_lexer": "ipython3",
   "version": "3.8.5"
  }
 },
 "nbformat": 4,
 "nbformat_minor": 4
}
