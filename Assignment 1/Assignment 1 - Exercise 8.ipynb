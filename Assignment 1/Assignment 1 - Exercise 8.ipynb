{
 "cells": [
  {
   "cell_type": "markdown",
   "metadata": {},
   "source": [
    "# Assignment 1 - Exercise 8\n",
    "\n",
    "We use the `gplearn` library (available via PyPI) for Genetic Programming. It provides a SciKit-Learn-like model API that allows us to define a `SymbolicRegressor` model for function approximation. The optimization can be initialized with a simple `.fit()` call as known from SK Learn."
   ]
  },
  {
   "cell_type": "code",
   "execution_count": 1,
   "metadata": {},
   "outputs": [],
   "source": [
    "import numpy as np\n",
    "import matplotlib.pyplot as plt\n",
    "from gplearn.genetic import SymbolicRegressor\n",
    "from gplearn.functions import make_function\n",
    "from gplearn.fitness import make_fitness"
   ]
  },
  {
   "cell_type": "code",
   "execution_count": 2,
   "metadata": {},
   "outputs": [],
   "source": [
    "# Hardcode the data\n",
    "x = np.arange(-1.0, 1.1, 0.1)\n",
    "y = np.array([0.,-0.1629,-0.2624,-0.3129,-0.3264,-0.3125,-0.2784,-0.2289,-0.1664,-0.0909,0.0,0.1111,0.2496,0.4251,0.6496,0.9375,1.3056,1.7731,2.3616,3.0951,4.0000])"
   ]
  },
  {
   "cell_type": "code",
   "execution_count": 3,
   "metadata": {},
   "outputs": [],
   "source": [
    "# Reshape x to bring it into proper shape for model\n",
    "x = np.reshape(x, (-1,1))"
   ]
  },
  {
   "cell_type": "code",
   "execution_count": 4,
   "metadata": {},
   "outputs": [
    {
     "data": {
      "image/png": "[encoded data removed]",
      "text/plain": [
       "<Figure size 432x288 with 1 Axes>"
      ]
     },
     "metadata": {
      "needs_background": "light"
     },
     "output_type": "display_data"
    }
   ],
   "source": [
    "# Plot the training data out of curiosity\n",
    "plt.plot(x, y)\n",
    "plt.title('Training Data')\n",
    "plt.xlabel('X');plt.ylabel('Y')\n",
    "plt.show()"
   ]
  },
  {
   "cell_type": "code",
   "execution_count": 5,
   "metadata": {},
   "outputs": [],
   "source": [
    "# Make exponential function to be used by Regressor\n",
    "# as it is not defined as default function\n",
    "def _exp(x1):\n",
    "    e = np.exp(x1)\n",
    "    # Convert NaNs to infinity, since otherwise overflows\n",
    "    # are encountered during model fitting. Infinity is\n",
    "    # a suitable replacement for optimization problems\n",
    "    # where a lower score is better; otherwise choose 0.\n",
    "    return np.nan_to_num(e, nan=float(\"inf\"))\n",
    "\n",
    "# `make_function` is from the gplearn API and provides a\n",
    "# Function object that can be passed to the function set\n",
    "# argument of `SymbolicRegressor`\n",
    "exp = make_function(function=_exp,\n",
    "                    name='exp',\n",
    "                    arity=1)"
   ]
  },
  {
   "cell_type": "code",
   "execution_count": null,
   "metadata": {},
   "outputs": [],
   "source": [
    "# Create sum of absolute error function\n",
    "# to be used as custom metric\n",
    "def _sae(y, y_pred, w):\n",
    "    \"\"\" The sum absolute error between y and y_pred \"\"\"\n",
    "    return np.sum(np.abs(y-y_pred)*w)\n",
    "\n",
    "# `make_fitness` is from the gplearn API and provides a\n",
    "# Fitness object that can be passed to the metric\n",
    "# argument of `SymbolicRegressor`\n",
    "sae = make_fitness(_sae, greater_is_better=False)"
   ]
  },
  {
   "cell_type": "code",
   "execution_count": 6,
   "metadata": {},
   "outputs": [],
   "source": [
    "# The following are helper functions to plot training progress as well as results/scores\n",
    "\n",
    "def plot_fit_versus_data(reg):\n",
    "    \"\"\" Plot the fitted model prediction against the actual data \"\"\"\n",
    "    plt.title('Fit vs. actual data')\n",
    "    plt.plot(x, y, label='true data')\n",
    "    plt.plot(x, reg.predict(x), label='approximation', linestyle='--')\n",
    "    plt.xlabel('X')\n",
    "    plt.ylabel('Y')\n",
    "    plt.legend()\n",
    "    plt.show()\n",
    "    \n",
    "def plot_evolution(reg):\n",
    "    \"\"\" Plot length and fitness of best individual over generations \"\"\"\n",
    "    best_lengths = reg.run_details_['best_length']\n",
    "    best_fitness = reg.run_details_['best_fitness']\n",
    "    generations = reg.run_details_['generation']\n",
    "    plt.title('Fitness and length of best individual over generations')\n",
    "    plt.plot(generations, best_lengths, label='Best length')\n",
    "    plt.plot(generations, best_fitness, label='Best fitness')\n",
    "    plt.xlabel('Generation')\n",
    "    plt.ylabel(' ')\n",
    "    plt.legend()\n",
    "    plt.show()\n",
    "    \n",
    "def eval_model(reg):\n",
    "    \"\"\" Collect and display useful information on model fit \"\"\"\n",
    "    # Print the found program\n",
    "    print('Final Program:\\n',reg._program)\n",
    "    print()\n",
    "    # Print final Sum Absolute Error (used as metric)\n",
    "    print('Sum Absolute Error: {:.2f}'.format(_sae(y, reg.predict(x),1)))\n",
    "    # Print R² as additional informative metric\n",
    "    print('R² Score: {:.2f}'.format(reg.score(x,y)))\n",
    "    # Show informative plots (defined above)\n",
    "    plot_fit_versus_data(reg)\n",
    "    plot_evolution(reg)"
   ]
  },
  {
   "cell_type": "code",
   "execution_count": null,
   "metadata": {},
   "outputs": [],
   "source": [
    "## Set the hyperparameters for the fit as taken from the assignment\n",
    "\n",
    "population_size = 1000\n",
    "# Note here that `exp` is not provided as a build in function. Thus we use\n",
    "# our previously defined custom exponential function object\n",
    "func_set = ('add','sub','mul','div','log','sin','cos',exp)\n",
    "n_generations = 50\n",
    "p_crossover = 0.7\n",
    "p_mutation = 0.0\n",
    "# Use the previously defined custom metric\n",
    "metric = sae"
   ]
  },
  {
   "cell_type": "code",
   "execution_count": null,
   "metadata": {},
   "outputs": [],
   "source": [
    "## Initialize the regression model using the hyperparameters\n",
    "\n",
    "reg = SymbolicRegressor(\n",
    "    population_size = population_size,\n",
    "    generations = n_generations,\n",
    "    p_crossover = p_crossover,\n",
    "    p_subtree_mutation=p_mutation, # three different types\n",
    "    p_hoist_mutation=p_mutation,   # of mutation, but all\n",
    "    p_point_mutation=p_mutation,   # with probability 0\n",
    "    function_set = func_set,\n",
    "    metric=sae,\n",
    "    verbose = 1\n",
    ")"
   ]
  },
  {
   "cell_type": "code",
   "execution_count": 13,
   "metadata": {},
   "outputs": [
    {
     "name": "stdout",
     "output_type": "stream",
     "text": [
      "    |   Population Average    |             Best Individual              |\n",
      "---- ------------------------- ------------------------------------------ ----------\n",
      " Gen   Length          Fitness   Length          Fitness      OOB Fitness  Time Left\n"
     ]
    },
    {
     "name": "stderr",
     "output_type": "stream",
     "text": [
      "<ipython-input-5-954cc93d03d7>:5: RuntimeWarning: overflow encountered in exp\n",
      "  e = np.exp(x1)\n",
      "/home/pscl/scienv/lib/python3.8/site-packages/numpy/core/fromnumeric.py:87: RuntimeWarning: overflow encountered in reduce\n",
      "  return ufunc.reduce(obj, axis, dtype, out, **passkwargs)\n"
     ]
    },
    {
     "name": "stdout",
     "output_type": "stream",
     "text": [
      "   0    15.74              inf        5          5.45326              N/A     27.83s\n",
      "   1    12.56          514.381       14          4.52811              N/A     28.38s\n",
      "   2    11.11          881.071       13          2.56948              N/A     24.75s\n",
      "   3    10.41           13.318       17          2.54729              N/A     25.63s\n",
      "   4    15.38          10705.8       17          1.12842              N/A     26.60s\n",
      "   5    13.85          27144.2       17          1.12842              N/A     25.85s\n",
      "   6    16.77          15443.9       14          1.12662              N/A     28.18s\n",
      "   7    17.35          10.1801       18         0.981267              N/A     25.82s\n",
      "   8    16.26          10.5884       18         0.981267              N/A     25.63s\n",
      "   9    15.65           10.065       18         0.981267              N/A     24.23s\n",
      "  10    17.26          10.1662       18         0.981267              N/A     23.84s\n",
      "  11    16.62          8.48842       18         0.981267              N/A     24.96s\n",
      "  12    15.92          6.35802       16         0.981267              N/A     21.34s\n",
      "  13    15.96          6.42569       16         0.981267              N/A     21.14s\n",
      "  14    16.43          6.04227       16         0.981267              N/A     20.20s\n",
      "  15    15.99          6.03459       16         0.981267              N/A     18.83s\n",
      "  16    15.91          5.97292       16         0.981267              N/A     20.72s\n",
      "  17    16.12          5.84079       16         0.981267              N/A     19.38s\n",
      "  18    16.16          6.67908       16         0.981267              N/A     18.07s\n",
      "  19    15.79          6.13842       16         0.981267              N/A     17.45s\n",
      "  20    15.83          6.29457       16         0.981267              N/A     17.22s\n",
      "  21    16.37          6.09488       16         0.981267              N/A     17.64s\n",
      "  22    15.93          6.31172       16         0.981267              N/A     16.13s\n",
      "  23    15.81           6.3439       16         0.981267              N/A     15.25s\n",
      "  24    15.91          6.10359       16         0.981267              N/A     14.53s\n",
      "  25    16.13          6.00701       16         0.981267              N/A     13.49s\n",
      "  26    15.90          6.36823       16         0.981267              N/A     14.55s\n",
      "  27    15.95          5.98726       16         0.981267              N/A     13.24s\n",
      "  28    15.94          6.98724       16         0.981267              N/A     11.79s\n",
      "  29    15.81          5.89253       16         0.981267              N/A     11.47s\n",
      "  30    15.92          5.84919       16         0.981267              N/A     11.64s\n",
      "  31    16.14          6.24599       16         0.981267              N/A     11.15s\n",
      "  32    16.23          5.97233       16         0.981267              N/A      9.98s\n",
      "  33    15.61          6.23117       16         0.981267              N/A      9.51s\n",
      "  34    16.13          5.99745       16         0.981267              N/A      9.34s\n",
      "  35    16.17          6.10429       16         0.981267              N/A      8.63s\n",
      "  36    15.92            6.396       16         0.981267              N/A      9.00s\n",
      "  37    16.11          6.25694       16         0.981267              N/A      7.48s\n",
      "  38    15.96          6.00102       16         0.981267              N/A      7.28s\n",
      "  39    16.03          6.57798       16         0.981267              N/A      6.32s\n",
      "  40    15.99           6.2708       16         0.981267              N/A      5.30s\n",
      "  41    16.05          6.01787       16         0.981267              N/A      4.93s\n",
      "  42    16.01           6.2119       16         0.981267              N/A      4.03s\n",
      "  43    15.89          6.50536       16         0.981267              N/A      3.89s\n",
      "  44    16.03          6.14968       16         0.981267              N/A      2.91s\n",
      "  45    15.90          6.19044       16         0.981267              N/A      2.33s\n",
      "  46    15.69          5.85456       16         0.981267              N/A      1.88s\n",
      "  47    16.19          6.30358       16         0.981267              N/A      1.17s\n",
      "  48    15.96           6.0871       16         0.981267              N/A      0.65s\n",
      "  49    16.09          6.02988       16         0.981267              N/A      0.00s\n"
     ]
    }
   ],
   "source": [
    "## Fit the model on the provided data\n",
    "\n",
    "reg = reg.fit(x, y)\n",
    "\n",
    "# Please note that it's possible that the process will encounter overflows for some of the \n",
    "# symbolic functions, and that the fitness can reach infinity. However, this does not hinder\n",
    "# the optimization process, as we actually want to decrease the SAE"
   ]
  },
  {
   "cell_type": "code",
   "execution_count": 14,
   "metadata": {},
   "outputs": [
    {
     "name": "stdout",
     "output_type": "stream",
     "text": [
      "Final Program:\n",
      " sub(exp(X0), cos(add(mul(sub(exp(sin(X0)), cos(X0)), X0), mul(X0, X0))))\n",
      "\n",
      "Sum Absolute Error: 0.98\n",
      "R² Score: 0.99\n"
     ]
    },
    {
     "data": {
      "image/png": "[encoded data removed]",
      "text/plain": [
       "<Figure size 432x288 with 1 Axes>"
      ]
     },
     "metadata": {
      "needs_background": "light"
     },
     "output_type": "display_data"
    },
    {
     "data": {
      "image/png": "[encoded data removed]",
      "text/plain": [
       "<Figure size 432x288 with 1 Axes>"
      ]
     },
     "metadata": {
      "needs_background": "light"
     },
     "output_type": "display_data"
    }
   ],
   "source": [
    "# Evaluate model and show plots\n",
    "eval_model(reg)"
   ]
  },
  {
   "cell_type": "markdown",
   "metadata": {},
   "source": [
    "**Question:** \n",
    "\n",
    "Can you observe any undesirable phenomenon from these plots? In case of positive\n",
    "answer, how would you try to overcome the related problem (you can refer to the\n",
    "literature).\n",
    "\n",
    "**Answer:**\n",
    "\n",
    "Yes, we can observe an undesirable phenomenon. First and foremost, it is evident that the algorithm quickly gets stuck in a local optimum. For almost all runs, it usually takes less that 10 generations until the algorithm does not improve upon the best individual anymore (as can be seen by the flattening out of both best length and best fitness functions). We reason that this is mainly due to the fact that the algorithm does not employ any randomness due to a mutation rate of 0. It thus has no good chances to escape a local optimum once it found a reasonable solution. To overcome this, we propose to introduce mutations to the algorithm, which is the main driver for selectively favouring exploration versus exploitation behaviour in such a system.\n",
    "\n",
    "Furthermore, we note that the dataset only contains few data points, and the selected interval is very small (20 datapoint in [-1,1]). It is very hard to find the true general function given only such a small snapshot of its data, as there are many possible functions that can approximate the true function in this interval reasonably well. To improve upon this, it would be beneficial to sample a wider interval of the true function."
   ]
  },
  {
   "cell_type": "code",
   "execution_count": null,
   "metadata": {},
   "outputs": [],
   "source": []
  }
 ],
 "metadata": {
  "kernelspec": {
   "display_name": "Python 3",
   "language": "python",
   "name": "python3"
  },
  "language_info": {
   "codemirror_mode": {
    "name": "ipython",
    "version": 3
   },
   "file_extension": ".py",
   "mimetype": "text/x-python",
   "name": "python",
   "nbconvert_exporter": "python",
   "pygments_lexer": "ipython3",
   "version": "3.8.5"
  }
 },
 "nbformat": 4,
 "nbformat_minor": 4
}
