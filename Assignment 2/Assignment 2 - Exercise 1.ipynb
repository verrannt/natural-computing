{
 "cells": [
  {
   "cell_type": "markdown",
   "metadata": {},
   "source": [
    "# Assignment 2 - Exercise 1"
   ]
  },
  {
   "cell_type": "code",
   "execution_count": 83,
   "metadata": {},
   "outputs": [],
   "source": [
    "import numpy as np"
   ]
  },
  {
   "cell_type": "code",
   "execution_count": 84,
   "metadata": {},
   "outputs": [],
   "source": [
    "def fitness(x):\n",
    "    res = 0\n",
    "    for xi in x:\n",
    "        res += -xi * np.sin(np.sqrt(np.abs(xi)))\n",
    "    return res"
   ]
  },
  {
   "cell_type": "code",
   "execution_count": 85,
   "metadata": {},
   "outputs": [
    {
     "name": "stdout",
     "output_type": "stream",
     "text": [
      "730.3562005821021 807.9150929576671 829.0117583869608\n"
     ]
    }
   ],
   "source": [
    "fit_x1 = fitness([-400, -400])\n",
    "fit_x2 = fitness([-410, -410])\n",
    "fit_x3 = fitness([-415, -415])\n",
    "print(fit_x1, fit_x2, fit_x3)"
   ]
  },
  {
   "cell_type": "code",
   "execution_count": 95,
   "metadata": {},
   "outputs": [],
   "source": [
    "def update_v(v, w, x, ind_opt, glob_opt):\n",
    "    a1 = a2 = 1 \n",
    "    r1 = r2 = 0.5\n",
    "    return w*v + a1*r1*(ind_opt - x) + a2*r2*(glob_opt - x)\n",
    "\n",
    "\n",
    "def update_pos(x, v):\n",
    "    res = []\n",
    "    \n",
    "    for i in range(len(x)):\n",
    "        new_x = x[i] + update_v(v[i], w, x[i], x[i], glob_opt[i])\n",
    "        if new_x > 500: new_x = 500\n",
    "        if new_x < -500: new_x = -500\n",
    "        res.append(new_x)\n",
    "        \n",
    "    return res"
   ]
  },
  {
   "cell_type": "code",
   "execution_count": 96,
   "metadata": {},
   "outputs": [],
   "source": [
    "x1 = [-400, -400]\n",
    "x2 = [-410, -410]\n",
    "x3 = [-415, -415]\n",
    "\n",
    "v1 = v2 = v3 = [-50, -50]\n",
    "\n",
    "a1 = a2 = 1\n",
    "r1 = r2 = 0.5\n",
    "glob_opt = x3"
   ]
  },
  {
   "cell_type": "code",
   "execution_count": 97,
   "metadata": {},
   "outputs": [
    {
     "name": "stdout",
     "output_type": "stream",
     "text": [
      "w=2\n",
      "  x1: pos=[-500, -500], fitness=-361.178\n",
      "  x2: pos=[-500, -500], fitness=-361.178\n",
      "  x3: pos=[-500, -500], fitness=-361.178\n",
      "w=0.5\n",
      "  x1: pos=[-432.5, -432.5], fitness=804.482\n",
      "  x2: pos=[-437.5, -437.5], fitness=769.495\n",
      "  x3: pos=[-440.0, -440.0], fitness=747.530\n",
      "w=0.1\n",
      "  x1: pos=[-412.5, -412.5], fitness=819.991\n",
      "  x2: pos=[-417.5, -417.5], fitness=834.935\n",
      "  x3: pos=[-420.0, -420.0], fitness=837.729\n"
     ]
    }
   ],
   "source": [
    "for w in [2, 0.5, 0.1]:\n",
    "    _x1 = update_pos(x1,v1)\n",
    "    _x2 = update_pos(x2,v2)\n",
    "    _x3 = update_pos(x3,v3)\n",
    "    \n",
    "    print(\"w={}\".format(w))\n",
    "    for i,_x in enumerate([_x1,_x2,_x3]):\n",
    "        print(\"  x{}: pos={}, fitness={:.3f}\".format(i+1, _x, fitness(_x)))"
   ]
  },
  {
   "cell_type": "code",
   "execution_count": null,
   "metadata": {},
   "outputs": [],
   "source": []
  }
 ],
 "metadata": {
  "kernelspec": {
   "display_name": "Python 3",
   "language": "python",
   "name": "python3"
  },
  "language_info": {
   "codemirror_mode": {
    "name": "ipython",
    "version": 3
   },
   "file_extension": ".py",
   "mimetype": "text/x-python",
   "name": "python",
   "nbconvert_exporter": "python",
   "pygments_lexer": "ipython3",
   "version": "3.8.5"
  }
 },
 "nbformat": 4,
 "nbformat_minor": 4
}
