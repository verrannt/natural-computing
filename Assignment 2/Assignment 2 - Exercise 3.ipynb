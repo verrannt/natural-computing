{
 "cells": [
  {
   "cell_type": "code",
   "execution_count": 80,
   "metadata": {},
   "outputs": [],
   "source": [
    "import numpy as np\n",
    "import matplotlib.pyplot as plt\n",
    "import pandas as pd\n",
    "\n",
    "from sklearn.cluster import KMeans\n",
    "from sklearn.model_selection import train_test_split\n",
    "from sklearn.datasets import load_iris\n",
    "from sklearn.metrics import mean_squared_error, accuracy_score"
   ]
  },
  {
   "cell_type": "code",
   "execution_count": 52,
   "metadata": {},
   "outputs": [],
   "source": [
    "iris = load_iris()\n",
    "x = iris['data']\n",
    "y = iris['target']\n",
    "train_x, test_x = train_test_split(x)\n",
    "train_y, test_y = train_test_split(y)"
   ]
  },
  {
   "cell_type": "code",
   "execution_count": 189,
   "metadata": {},
   "outputs": [
    {
     "data": {
      "text/plain": [
       "KMeans(algorithm='auto', copy_x=True, init='k-means++', max_iter=300,\n",
       "       n_clusters=3, n_init=10, n_jobs=None, precompute_distances='auto',\n",
       "       random_state=None, tol=0.0001, verbose=0)"
      ]
     },
     "execution_count": 189,
     "metadata": {},
     "output_type": "execute_result"
    }
   ],
   "source": [
    "est = KMeans(n_clusters=3)\n",
    "est.fit(train_x)"
   ]
  },
  {
   "cell_type": "code",
   "execution_count": 190,
   "metadata": {},
   "outputs": [
    {
     "name": "stdout",
     "output_type": "stream",
     "text": [
      "0.35714285714285715\n",
      "0.22321428571428573\n",
      "0.38392857142857145\n",
      "0.3125\n",
      "0.33035714285714285\n",
      "0.39285714285714285\n"
     ]
    }
   ],
   "source": [
    "import itertools\n",
    "for order in list(itertools.permutations([0, 1, 2])):\n",
    "    preds = np.choose(est.labels_, order).astype(np.int64)\n",
    "    print(accuracy_score(preds, train_y))"
   ]
  },
  {
   "cell_type": "code",
   "execution_count": 182,
   "metadata": {},
   "outputs": [],
   "source": [
    "preds = np.choose(est.labels_, [2, 1, 0]).astype(np.int64)"
   ]
  },
  {
   "cell_type": "code",
   "execution_count": 183,
   "metadata": {},
   "outputs": [
    {
     "data": {
      "text/plain": [
       "0.35714285714285715"
      ]
     },
     "execution_count": 183,
     "metadata": {},
     "output_type": "execute_result"
    }
   ],
   "source": [
    "accuracy_score(preds, train_y)"
   ]
  },
  {
   "cell_type": "markdown",
   "metadata": {},
   "source": [
    "## PSO Algorithm"
   ]
  },
  {
   "cell_type": "code",
   "execution_count": 121,
   "metadata": {},
   "outputs": [],
   "source": [
    "def dist_func(z, x):\n",
    "    return np.linalg.norm(z-x)"
   ]
  },
  {
   "cell_type": "code",
   "execution_count": 136,
   "metadata": {},
   "outputs": [],
   "source": [
    "pop_size = 100\n",
    "\n",
    "a1 = a2 = 1.49618\n",
    "w = 0.7298\n",
    "\n",
    "# Initialize particles\n",
    "particles = []\n",
    "for n in range(pop_size):\n",
    "    indexes = np.arange(train_x.shape[0])\n",
    "    chosen_indexes = np.random.choice(indexes, 3, replace=False)\n",
    "    particles.append(train_x[chosen_indexes])\n",
    "\n",
    "particles = np.array(particles)   \n",
    "local_best_particles = particles.copy()\n",
    "local_best_fitnesses = np.full(pop_size, np.inf)\n",
    "\n",
    "velocities = np.random.normal(0, 0.2, (pop_size, 3, 4))"
   ]
  },
  {
   "cell_type": "code",
   "execution_count": 137,
   "metadata": {},
   "outputs": [],
   "source": [
    "def update_v(v, w, x, ind_opt, glob_opt):\n",
    "    return w*v + a1*r1*(ind_opt - x) + a2*r2*(glob_opt - x)\n",
    "\n",
    "def update_pos(x, v, lbest, gbest):\n",
    "    return [x[i] + update_v(v[i], w, x[i], lbest[i], gbest[i]) \n",
    "            for i in range(len(x))]"
   ]
  },
  {
   "cell_type": "code",
   "execution_count": 138,
   "metadata": {},
   "outputs": [
    {
     "name": "stdout",
     "output_type": "stream",
     "text": [
      "Progress: 200/200\r"
     ]
    }
   ],
   "source": [
    "maxiter = 200\n",
    "global_best_fitness = np.inf\n",
    "\n",
    "for i in range(maxiter):\n",
    "    \n",
    "    print('Progress: {}/{}\\r'.format(i+1,maxiter), end='')\n",
    "    \n",
    "    fitnesses = []\n",
    "    for j, particle in enumerate(particles):\n",
    "        fitness = 0\n",
    "        for z in train_x:\n",
    "            # Calculate distance of data point z to each cluter centroid\n",
    "            dists = [dist_func(z, centroid) for centroid in particle]\n",
    "            fitness += np.min(dists)\n",
    "        fitness = fitness / train_x.shape[0]\n",
    "        fitnesses.append(fitness)\n",
    "        \n",
    "        # Update local best\n",
    "        if fitness < local_best_fitnesses[j]:\n",
    "            local_best_particles[j] = particle\n",
    "            local_best_fitnesses[j] = fitness\n",
    "    \n",
    "    # Update global best\n",
    "    _new_best_fitness = np.min(fitnesses)\n",
    "    if _new_best_fitness < global_best_fitness:\n",
    "        global_best_fitness = _new_best_fitness\n",
    "        global_best = particles[np.argmin(fitnesses)]\n",
    "    \n",
    "    # Update step\n",
    "    r1 = np.random.uniform()\n",
    "    r2 = np.random.uniform()\n",
    "    \n",
    "    for pidx, particle in enumerate(particles):\n",
    "        for cidx, centroid in enumerate(particle):\n",
    "            centroid = update_pos(\n",
    "                centroid, \n",
    "                velocities[pidx,cidx], \n",
    "                local_best_particles[pidx][cidx], \n",
    "                global_best[cidx])"
   ]
  },
  {
   "cell_type": "code",
   "execution_count": 192,
   "metadata": {},
   "outputs": [],
   "source": [
    "def get_labels(particle):\n",
    "    labels = []\n",
    "    for z in train_x:\n",
    "        dists = [dist_func(z, centroid) for centroid in particle]\n",
    "        labels.append(np.argmin(dists))\n",
    "    return labels"
   ]
  },
  {
   "cell_type": "code",
   "execution_count": 193,
   "metadata": {},
   "outputs": [
    {
     "data": {
      "text/plain": [
       "array([[4.8, 3.4, 1.6, 0.2],\n",
       "       [5.6, 2.7, 4.2, 1.3],\n",
       "       [6.9, 3.2, 5.7, 2.3]])"
      ]
     },
     "execution_count": 193,
     "metadata": {},
     "output_type": "execute_result"
    }
   ],
   "source": [
    "global_best"
   ]
  },
  {
   "cell_type": "code",
   "execution_count": 194,
   "metadata": {},
   "outputs": [],
   "source": [
    "pred_labels = get_labels(global_best)"
   ]
  },
  {
   "cell_type": "code",
   "execution_count": 195,
   "metadata": {},
   "outputs": [],
   "source": [
    "import seaborn as sb"
   ]
  },
  {
   "cell_type": "code",
   "execution_count": 196,
   "metadata": {},
   "outputs": [
    {
     "data": {
      "image/png": "[encoded data removed]",
      "text/plain": [
       "<Figure size 432x288 with 1 Axes>"
      ]
     },
     "metadata": {
      "needs_background": "light"
     },
     "output_type": "display_data"
    }
   ],
   "source": [
    "sb.scatterplot(x=train_x[:,0], y=train_x[:,1], hue=pred_labels)\n",
    "plt.show()"
   ]
  },
  {
   "cell_type": "code",
   "execution_count": 197,
   "metadata": {},
   "outputs": [
    {
     "data": {
      "text/plain": [
       "0.38392857142857145"
      ]
     },
     "execution_count": 197,
     "metadata": {},
     "output_type": "execute_result"
    }
   ],
   "source": [
    "accuracy_score(pred_labels, train_y)"
   ]
  },
  {
   "cell_type": "code",
   "execution_count": 198,
   "metadata": {},
   "outputs": [
    {
     "name": "stdout",
     "output_type": "stream",
     "text": [
      "0.38392857142857145\n",
      "0.33035714285714285\n",
      "0.35714285714285715\n",
      "0.39285714285714285\n",
      "0.22321428571428573\n",
      "0.3125\n"
     ]
    }
   ],
   "source": [
    "import itertools\n",
    "for order in list(itertools.permutations([0, 1, 2])):\n",
    "    preds = np.choose(pred_labels, order).astype(np.int64)\n",
    "    print(accuracy_score(preds, train_y))"
   ]
  },
  {
   "cell_type": "code",
   "execution_count": null,
   "metadata": {},
   "outputs": [],
   "source": []
  }
 ],
 "metadata": {
  "kernelspec": {
   "display_name": "Python 3",
   "language": "python",
   "name": "python3"
  },
  "language_info": {
   "codemirror_mode": {
    "name": "ipython",
    "version": 3
   },
   "file_extension": ".py",
   "mimetype": "text/x-python",
   "name": "python",
   "nbconvert_exporter": "python",
   "pygments_lexer": "ipython3",
   "version": "3.8.5"
  }
 },
 "nbformat": 4,
 "nbformat_minor": 4
}
